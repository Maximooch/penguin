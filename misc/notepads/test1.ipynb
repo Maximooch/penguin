{
 "cells": [
  {
   "cell_type": "code",
   "execution_count": 1,
   "metadata": {},
   "outputs": [
    {
     "name": "stderr",
     "output_type": "stream",
     "text": [
      "WARNING:root:browser-use temporarily disabled for Python 3.8-3.10 compatibility. Use PyDoll instead.\n"
     ]
    },
    {
     "ename": "ModuleNotFoundError",
     "evalue": "No module named 'penguin.agent'",
     "output_type": "error",
     "traceback": [
      "\u001b[0;31m---------------------------------------------------------------------------\u001b[0m",
      "\u001b[0;31mModuleNotFoundError\u001b[0m                       Traceback (most recent call last)",
      "Cell \u001b[0;32mIn[1], line 3\u001b[0m\n\u001b[1;32m      1\u001b[0m \u001b[38;5;66;03m# scripts/stream_debug.py\u001b[39;00m\n\u001b[1;32m      2\u001b[0m \u001b[38;5;28;01mimport\u001b[39;00m \u001b[38;5;21;01masyncio\u001b[39;00m\n\u001b[0;32m----> 3\u001b[0m \u001b[38;5;28;01mfrom\u001b[39;00m \u001b[38;5;21;01mpenguin\u001b[39;00m\u001b[38;5;21;01m.\u001b[39;00m\u001b[38;5;21;01magent\u001b[39;00m \u001b[38;5;28;01mimport\u001b[39;00m PenguinAgentAsync\n\u001b[1;32m      5\u001b[0m PROMPT \u001b[38;5;241m=\u001b[39m (\n\u001b[1;32m      6\u001b[0m     \u001b[38;5;124m\"\u001b[39m\u001b[38;5;124m/run --247 To test: go to this url and describe to me the image you see: \u001b[39m\u001b[38;5;124m\"\u001b[39m\n\u001b[1;32m      7\u001b[0m     \u001b[38;5;124m\"\u001b[39m\u001b[38;5;124mhttps://imgur.com/a/tn8MIFb (this is just a test, keep it simple, no scratchpad needed)\u001b[39m\u001b[38;5;124m\"\u001b[39m\n\u001b[1;32m      8\u001b[0m )\n\u001b[1;32m     10\u001b[0m \u001b[38;5;28;01masync\u001b[39;00m \u001b[38;5;28;01mdef\u001b[39;00m \u001b[38;5;21mmain\u001b[39m():\n",
      "\u001b[0;31mModuleNotFoundError\u001b[0m: No module named 'penguin.agent'"
     ]
    }
   ],
   "source": [
    "# scripts/stream_debug.py\n",
    "# scripts/stream_debug_local.py\n",
    "import asyncio\n",
    "from penguin.core import PenguinCore\n",
    "\n",
    "PROMPT = (\n",
    "    \"/run --247 To test: go to this url and describe to me the image you see: \"\n",
    "    \"https://imgur.com/a/tn8MIFb (this is just a test, keep it simple, no scratchpad needed)\"\n",
    ")\n",
    "\n",
    "async def main():\n",
    "    core = await PenguinCore.create(enable_cli=False, fast_startup=True)\n",
    "    print(\"=== STREAM START ===\")\n",
    "    async for chunk in core.api_client.stream(PROMPT):\n",
    "        print(repr(chunk))          # show raw chunks\n",
    "    print(\"\\n=== STREAM END ===\")\n",
    "\n",
    "if __name__ == \"__main__\":\n",
    "    asyncio.run(main())\n"
   ]
  },
  {
   "cell_type": "code",
   "execution_count": null,
   "metadata": {},
   "outputs": [],
   "source": []
  }
 ],
 "metadata": {
  "kernelspec": {
   "display_name": "Python 3",
   "language": "python",
   "name": "python3"
  },
  "language_info": {
   "codemirror_mode": {
    "name": "ipython",
    "version": 3
   },
   "file_extension": ".py",
   "mimetype": "text/x-python",
   "name": "python",
   "nbconvert_exporter": "python",
   "pygments_lexer": "ipython3",
   "version": "3.12.8"
  }
 },
 "nbformat": 4,
 "nbformat_minor": 2
}
